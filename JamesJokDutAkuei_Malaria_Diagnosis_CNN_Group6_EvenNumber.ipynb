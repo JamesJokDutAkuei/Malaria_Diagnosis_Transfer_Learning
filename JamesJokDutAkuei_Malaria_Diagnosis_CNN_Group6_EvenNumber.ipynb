{
  "cells": [
    {
      "cell_type": "markdown",
      "metadata": {
        "id": "view-in-github",
        "colab_type": "text"
      },
      "source": [
        "<a href=\"https://colab.research.google.com/github/JamesJokDutAkuei/Malaria_Diagnosis_Transfer_Learning/blob/main/JamesJokDutAkuei_Malaria_Diagnosis_CNN_Group6_EvenNumber.ipynb\" target=\"_parent\"><img src=\"https://colab.research.google.com/assets/colab-badge.svg\" alt=\"Open In Colab\"/></a>"
      ]
    },
    {
      "cell_type": "markdown",
      "metadata": {
        "id": "C_hxzrVpanrY"
      },
      "source": [
        "# Deep Learning for Malaria Diagnosis\n",
        "This notebook is inspired by works of (Sivaramakrishnan Rajaraman  et al., 2018) and (Jason Brownlee, 2019). Acknowledge to NIH and Bangalor Hospital who make available this malaria dataset."
      ]
    },
    {
      "cell_type": "markdown",
      "metadata": {
        "id": "4DyHvXlda9rH"
      },
      "source": [
        "Malaria is an infectuous disease caused by parasites that are transmitted to people through the bites of infected female Anopheles mosquitoes.\n",
        "\n",
        "The Malaria burden with some key figures:\n",
        "<font color='red'>\n",
        "* More than 219 million cases\n",
        "* Over 430 000 deaths in 2017 (Mostly: children & pregnants)\n",
        "* 80% in 15 countries of Africa & India\n",
        "  </font>\n",
        "\n",
        "![MalariaBurd](https://github.com/habiboulaye/ai-labs/blob/master/malaria-diagnosis/doc-images/MalariaBurden.png?raw=1)\n",
        "\n",
        "The malaria diagnosis is performed using blood test:\n",
        "* Collect patient blood smear\n",
        "* Microscopic visualisation of the parasit\n",
        "\n",
        "![MalariaDiag](https://github.com/habiboulaye/ai-labs/blob/master/malaria-diagnosis/doc-images/MalariaDiag.png?raw=1)\n",
        "  \n",
        "Main issues related to traditional diagnosis:\n",
        "<font color='#ed7d31'>\n",
        "* resource-constrained regions\n",
        "* time needed and delays\n",
        "* diagnosis accuracy and cost\n",
        "</font>\n",
        "\n",
        "The objective of this notebook is to apply modern deep learning techniques to perform medical image analysis for malaria diagnosis."
      ]
    },
    {
      "cell_type": "markdown",
      "metadata": {
        "id": "a5qBTeqkrJ88"
      },
      "source": [
        "*This notebook is inspired by works of (Sivaramakrishnan Rajaraman  et al., 2018), (Adrian Rosebrock, 2018) and (Jason Brownlee, 2019)*"
      ]
    },
    {
      "cell_type": "markdown",
      "metadata": {
        "id": "4K5rb4bmdMRf"
      },
      "source": [
        "## Configuration"
      ]
    },
    {
      "cell_type": "code",
      "execution_count": null,
      "metadata": {
        "id": "jxaLbRUnYWTm"
      },
      "outputs": [],
      "source": [
        "#Mount the local drive project_forder\n",
        "from google.colab import drive\n",
        "drive.mount('/content/drive/')\n",
        "!ls \"/content/drive/My Drive/Colab Notebooks/10xDS/Projects/malaria-diagnosis/\""
      ]
    },
    {
      "cell_type": "code",
      "execution_count": 2,
      "metadata": {
        "id": "oIfORUX7ccHI",
        "colab": {
          "base_uri": "https://localhost:8080/",
          "height": 53
        },
        "outputId": "cd64a187-0ede-4c4d-852d-37c04bf1a548"
      },
      "outputs": [
        {
          "output_type": "stream",
          "name": "stdout",
          "text": [
            "2.19.0\n"
          ]
        },
        {
          "output_type": "execute_result",
          "data": {
            "text/plain": [
              "'/device:GPU:0'"
            ],
            "application/vnd.google.colaboratory.intrinsic+json": {
              "type": "string"
            }
          },
          "metadata": {},
          "execution_count": 2
        }
      ],
      "source": [
        "# Use GPU: Please check if the outpout is '/device:GPU:0'\n",
        "import tensorflow as tf\n",
        "print(tf.__version__)\n",
        "tf.test.gpu_device_name()\n",
        "#from tensorflow.python.client import device_lib\n",
        "#device_lib.list_local_devices()"
      ]
    },
    {
      "cell_type": "markdown",
      "metadata": {
        "id": "gp1o6Cd7dV6Z"
      },
      "source": [
        "## Populating namespaces"
      ]
    },
    {
      "cell_type": "code",
      "execution_count": 3,
      "metadata": {
        "id": "_4Ph8e1uojEC"
      },
      "outputs": [],
      "source": [
        "# Importing basic libraries\n",
        "import os\n",
        "import random\n",
        "import shutil\n",
        "from matplotlib import pyplot\n",
        "from matplotlib.image import imread\n",
        "%matplotlib inline\n",
        "\n",
        "# Importing the Keras libraries and packages\n",
        "from tensorflow.keras.models import Sequential\n",
        "from tensorflow.keras.layers import Convolution2D as Conv2D\n",
        "from tensorflow.keras.layers import MaxPooling2D\n",
        "from tensorflow.keras.layers import Flatten\n",
        "from tensorflow.keras.layers import Dense"
      ]
    },
    {
      "cell_type": "code",
      "execution_count": 4,
      "metadata": {
        "id": "SOvmLtdRgSIb"
      },
      "outputs": [],
      "source": [
        "# Define the useful paths for data accessibility\n",
        "ai_project = '.' #\"/content/drive/My Drive/Colab Notebooks/ai-labs/malaria-diagnosis\"\n",
        "cell_images_dir = os.path.join(ai_project,'cell_images')\n",
        "training_path = os.path.join(ai_project,'train')\n",
        "testing_path = os.path.join(ai_project,'test')"
      ]
    },
    {
      "cell_type": "markdown",
      "metadata": {
        "id": "11DKlCJcj31w"
      },
      "source": [
        "## Prepare DataSet"
      ]
    },
    {
      "cell_type": "markdown",
      "metadata": {
        "id": "midATIuUq7H7"
      },
      "source": [
        "### *Download* DataSet"
      ]
    },
    {
      "cell_type": "code",
      "execution_count": 5,
      "metadata": {
        "id": "eCT2ogQdeHPW",
        "colab": {
          "base_uri": "https://localhost:8080/"
        },
        "outputId": "4333a5a1-f723-4f78-af38-c9e075d0bf49"
      },
      "outputs": [
        {
          "output_type": "stream",
          "name": "stdout",
          "text": [
            "--2025-10-05 15:15:54--  https://data.lhncbc.nlm.nih.gov/public/Malaria/cell_images.zip\n",
            "Resolving data.lhncbc.nlm.nih.gov (data.lhncbc.nlm.nih.gov)... 3.167.192.56, 3.167.192.60, 3.167.192.111, ...\n",
            "Connecting to data.lhncbc.nlm.nih.gov (data.lhncbc.nlm.nih.gov)|3.167.192.56|:443... connected.\n",
            "HTTP request sent, awaiting response... 200 OK\n",
            "Length: 353452851 (337M) [application/zip]\n",
            "Saving to: ‘cell_images.zip’\n",
            "\n",
            "cell_images.zip     100%[===================>] 337.08M   333MB/s    in 1.0s    \n",
            "\n",
            "2025-10-05 15:15:55 (333 MB/s) - ‘cell_images.zip’ saved [353452851/353452851]\n",
            "\n",
            "cell_images  cell_images.zip  sample_data\n"
          ]
        }
      ],
      "source": [
        "# Download the data in the allocated google cloud-server. If already down, turn downloadData=False\n",
        "downloadData = True\n",
        "if downloadData == True:\n",
        "  indrive = False\n",
        "  if indrive == True:\n",
        "    !wget https://data.lhncbc.nlm.nih.gov/public/Malaria/cell_images.zip -P \"/content/drive/My Drive/Colab Notebooks/ai-labs/malaria-diagnosis\"\n",
        "    !unzip \"/content/drive/My Drive/Colab Notebooks/ai-labs/malaria-diagnosis/cell_images.zip\" -d \"/content/drive/My Drive/Colab Notebooks/ai-labs/malaria-diagnosis/\"\n",
        "    !ls \"/content/drive/My Drive/Colab Notebooks/ai-labs/malaria-diagnosis\"\n",
        "  else: #incloud google server\n",
        "    !rm -rf cell_images.*\n",
        "    !wget https://data.lhncbc.nlm.nih.gov/public/Malaria/cell_images.zip\n",
        "    !unzip cell_images.zip >/dev/null 2>&1\n",
        "    !ls"
      ]
    },
    {
      "cell_type": "markdown",
      "metadata": {
        "id": "D1LUJGE9U2vW"
      },
      "source": [
        "## Baseline CNN Model\n",
        "Define a basic ConvNet defined with ConvLayer: Conv2D => MaxPooling2D followed by Flatten => Dense => Dense(output)\n",
        "\n",
        "![ConvNet](https://github.com/habiboulaye/ai-labs/blob/master/malaria-diagnosis/doc-images/ConvNet.png?raw=1)\n"
      ]
    },
    {
      "cell_type": "markdown",
      "source": [
        "# InceptionV3 Transfer Learning for Malaria Diagnosis\n",
        "# Author: James Jok Dut Akuei\n",
        "# Model: InceptionV3 with Transfer Learning\n",
        "\n",
        "This notebook implements transfer learning using InceptionV3,\n",
        "an efficient architecture with inception modules that parallelize\n",
        "different filter sizes. InceptionV3 was chosen for:\n",
        "- Lower computational cost than ResNet/VGG\n",
        "- Strong performance on medical images\n",
        "- Efficient multi-scale feature extraction\n",
        "- Only 23.9M parameters (lighter than ResNet50's 25.6M)\n",
        "\n",
        "Two experiments:\n",
        "1. Experiment 1: Frozen base with minimal layers\n",
        "2. Experiment 2: Fine-tuning with enhanced augmentation"
      ],
      "metadata": {
        "id": "uPy-1SOqHDGS"
      }
    },
    {
      "cell_type": "code",
      "source": [
        "import tensorflow as tf\n",
        "from tensorflow.keras.applications import InceptionV3\n",
        "from tensorflow.keras.models import Model\n",
        "from tensorflow.keras.layers import Dense, GlobalAveragePooling2D, Dropout\n",
        "from tensorflow.keras.optimizers import Adam\n",
        "from tensorflow.keras.callbacks import EarlyStopping, ReduceLROnPlateau, ModelCheckpoint\n",
        "from tensorflow.keras.preprocessing.image import ImageDataGenerator\n",
        "import numpy as np\n",
        "import matplotlib.pyplot as plt\n",
        "from sklearn.metrics import classification_report, confusion_matrix, roc_curve, auc\n",
        "import seaborn as sns\n",
        "import pandas as pd\n",
        "\n",
        "# Set random seeds\n",
        "np.random.seed(42)\n",
        "tf.random.set_seed(42)\n",
        "\n",
        "print(\"TensorFlow version:\", tf.__version__)\n",
        "print(\"GPU:\", tf.test.gpu_device_name())\n",
        "\n"
      ],
      "metadata": {
        "colab": {
          "base_uri": "https://localhost:8080/"
        },
        "id": "6gRBhCPlIPIm",
        "outputId": "64e6a74b-aeb3-4185-8f48-06ca234dd75d"
      },
      "execution_count": 6,
      "outputs": [
        {
          "output_type": "stream",
          "name": "stdout",
          "text": [
            "TensorFlow version: 2.19.0\n",
            "GPU: /device:GPU:0\n"
          ]
        }
      ]
    },
    {
      "cell_type": "markdown",
      "source": [
        "# DATA PREPARATION AND SPLITTING"
      ],
      "metadata": {
        "id": "5Y-kY9G-IT13"
      }
    },
    {
      "cell_type": "code",
      "source": [
        "# ============================================================================\n",
        "# DATA PREPARATION - Run this FIRST in new Colab\n",
        "# ============================================================================\n",
        "\n",
        "import os\n",
        "import shutil\n",
        "import random\n",
        "\n",
        "# Define paths\n",
        "ai_project = '.'\n",
        "cell_images_dir = os.path.join(ai_project, 'cell_images')\n",
        "TRAIN_DIR = os.path.join(ai_project, 'train')\n",
        "TEST_DIR = os.path.join(ai_project, 'test')\n",
        "\n",
        "# Download dataset if needed\n",
        "if not os.path.exists(cell_images_dir):\n",
        "    print(\"Downloading dataset...\")\n",
        "    !wget -q https://data.lhncbc.nlm.nih.gov/public/Malaria/cell_images.zip\n",
        "    !unzip -q cell_images.zip\n",
        "    !rm cell_images.zip\n",
        "    print(\"✓ Dataset downloaded\")\n",
        "\n",
        "# Create train/test split\n",
        "if not os.path.exists(TRAIN_DIR) or not os.path.exists(TEST_DIR):\n",
        "    print(\"\\nCreating train/test split...\")\n",
        "\n",
        "    # Create directories\n",
        "    for split_dir in [TRAIN_DIR, TEST_DIR]:\n",
        "        for class_name in ['Parasitized', 'Uninfected']:\n",
        "            os.makedirs(os.path.join(split_dir, class_name), exist_ok=True)\n",
        "\n",
        "    # Split data 80/20\n",
        "    random.seed(42)\n",
        "    for class_name in ['Parasitized', 'Uninfected']:\n",
        "        src_path = os.path.join(cell_images_dir, class_name)\n",
        "        images = [f for f in os.listdir(src_path) if f.endswith(('.png', '.jpg'))]\n",
        "        random.shuffle(images)\n",
        "\n",
        "        split_idx = int(len(images) * 0.8)\n",
        "        train_imgs = images[:split_idx]\n",
        "        test_imgs = images[split_idx:]\n",
        "\n",
        "        print(f\"{class_name}: {len(train_imgs)} train, {len(test_imgs)} test\")\n",
        "\n",
        "        # Copy to train\n",
        "        for img in train_imgs:\n",
        "            shutil.copy2(os.path.join(src_path, img),\n",
        "                        os.path.join(TRAIN_DIR, class_name, img))\n",
        "\n",
        "        # Copy to test\n",
        "        for img in test_imgs:\n",
        "            shutil.copy2(os.path.join(src_path, img),\n",
        "                        os.path.join(TEST_DIR, class_name, img))\n",
        "\n",
        "    print(\"\\n✓ Data split complete!\")\n",
        "\n",
        "print(\"\\nData ready for training:\")\n",
        "print(f\"Train: {TRAIN_DIR}\")\n",
        "print(f\"Test: {TEST_DIR}\")"
      ],
      "metadata": {
        "colab": {
          "base_uri": "https://localhost:8080/"
        },
        "id": "BKOrdmEI9Njt",
        "outputId": "be3a1935-78fa-4f82-d42f-99178ea8cfc4"
      },
      "execution_count": 11,
      "outputs": [
        {
          "output_type": "stream",
          "name": "stdout",
          "text": [
            "\n",
            "Creating train/test split...\n",
            "Parasitized: 11023 train, 2756 test\n",
            "Uninfected: 11023 train, 2756 test\n",
            "\n",
            "✓ Data split complete!\n",
            "\n",
            "Data ready for training:\n",
            "Train: ./train\n",
            "Test: ./test\n"
          ]
        }
      ]
    },
    {
      "cell_type": "markdown",
      "source": [
        "# EXPERIMENT 1: Frozen Base with Minimal Layers"
      ],
      "metadata": {
        "id": "EGmzIptrKlQc"
      }
    },
    {
      "cell_type": "code",
      "source": [
        "print(\"\\n\" + \"=\"*80)\n",
        "print(\"EXPERIMENT 1: InceptionV3 with Frozen Base\")\n",
        "print(\"=\"*80)\n",
        "\n",
        "# Basic data augmentation\n",
        "train_datagen_exp1 = ImageDataGenerator(\n",
        "    rescale=1./255,\n",
        "    rotation_range=20,\n",
        "    width_shift_range=0.2,\n",
        "    height_shift_range=0.2,\n",
        "    horizontal_flip=True,\n",
        "    validation_split=0.2\n",
        ")\n",
        "\n",
        "test_datagen = ImageDataGenerator(rescale=1./255)\n",
        "\n",
        "# Load data\n",
        "train_generator_exp1 = train_datagen_exp1.flow_from_directory(\n",
        "    TRAIN_DIR,\n",
        "    target_size=IMG_SIZE,\n",
        "    batch_size=BATCH_SIZE,\n",
        "    class_mode='binary',\n",
        "    subset='training',\n",
        "    shuffle=True\n",
        ")\n",
        "\n",
        "val_generator_exp1 = train_datagen_exp1.flow_from_directory(\n",
        "    TRAIN_DIR,\n",
        "    target_size=IMG_SIZE,\n",
        "    batch_size=BATCH_SIZE,\n",
        "    class_mode='binary',\n",
        "    subset='validation',\n",
        "    shuffle=False\n",
        ")\n",
        "\n",
        "test_generator = test_datagen.flow_from_directory(\n",
        "    TEST_DIR,\n",
        "    target_size=IMG_SIZE,\n",
        "    batch_size=BATCH_SIZE,\n",
        "    class_mode='binary',\n",
        "    shuffle=False\n",
        ")\n",
        "\n",
        "print(f\"\\nData Summary:\")\n",
        "print(f\"Training: {train_generator_exp1.samples}\")\n",
        "print(f\"Validation: {val_generator_exp1.samples}\")\n",
        "print(f\"Test: {test_generator.samples}\")\n",
        "\n",
        "# Build simplified model\n",
        "def build_inceptionv3_simple():\n",
        "    \"\"\"\n",
        "    Build InceptionV3 with minimal classification layers.\n",
        "    Reduces complexity compared to typical architectures.\n",
        "    \"\"\"\n",
        "    # Load pre-trained InceptionV3\n",
        "    base_model = InceptionV3(\n",
        "        weights='imagenet',\n",
        "        include_top=False,\n",
        "        input_shape=(*IMG_SIZE, 3)\n",
        "    )\n",
        "\n",
        "    # Freeze all base layers\n",
        "    base_model.trainable = False\n",
        "\n",
        "    # Minimal classification head - only 2 layers\n",
        "    x = base_model.output\n",
        "    x = GlobalAveragePooling2D()(x)\n",
        "    x = Dropout(0.4)(x)\n",
        "    x = Dense(128, activation='relu')(x)  # Single dense layer\n",
        "    x = Dropout(0.3)(x)\n",
        "    outputs = Dense(1, activation='sigmoid')(x)\n",
        "\n",
        "    model = Model(inputs=base_model.input, outputs=outputs)\n",
        "    return model\n",
        "\n",
        "# Create model\n",
        "model_exp1 = build_inceptionv3_simple()\n",
        "\n",
        "# Compile\n",
        "model_exp1.compile(\n",
        "    optimizer=Adam(learning_rate=0.001),\n",
        "    loss='binary_crossentropy',\n",
        "    metrics=[\n",
        "        'accuracy',\n",
        "        tf.keras.metrics.Precision(name='precision'),\n",
        "        tf.keras.metrics.Recall(name='recall'),\n",
        "        tf.keras.metrics.AUC(name='auc')\n",
        "    ]\n",
        ")\n",
        "\n",
        "print(\"\\nModel Architecture:\")\n",
        "total_params = model_exp1.count_params()\n",
        "trainable_params = sum([tf.size(w).numpy() for w in model_exp1.trainable_weights])\n",
        "print(f\"Total parameters: {total_params:,}\")\n",
        "print(f\"Trainable parameters: {trainable_params:,}\")\n",
        "print(f\"Non-trainable parameters: {total_params - trainable_params:,}\")\n",
        "\n",
        "# Callbacks\n",
        "callbacks_exp1 = [\n",
        "    EarlyStopping(\n",
        "        monitor='val_loss',\n",
        "        patience=7,\n",
        "        restore_best_weights=True,\n",
        "        verbose=1\n",
        "    ),\n",
        "    ReduceLROnPlateau(\n",
        "        monitor='val_loss',\n",
        "        factor=0.3,\n",
        "        patience=3,\n",
        "        min_lr=1e-7,\n",
        "        verbose=1\n",
        "    ),\n",
        "    ModelCheckpoint(\n",
        "        'inceptionv3_exp1_best.h5',\n",
        "        monitor='val_accuracy',\n",
        "        save_best_only=True,\n",
        "        verbose=1\n",
        "    )\n",
        "]\n",
        "\n",
        "# Train\n",
        "print(\"\\nTraining Experiment 1...\")\n",
        "history_exp1 = model_exp1.fit(\n",
        "    train_generator_exp1,\n",
        "    validation_data=val_generator_exp1,\n",
        "    epochs=EPOCHS_EXP1,\n",
        "    callbacks=callbacks_exp1,\n",
        "    verbose=1\n",
        ")\n",
        "\n",
        "# Evaluate\n",
        "print(\"\\nEvaluating Experiment 1...\")\n",
        "test_generator.reset()\n",
        "test_results = model_exp1.evaluate(test_generator, verbose=1)\n",
        "test_acc_exp1, test_prec_exp1, test_rec_exp1, test_auc_exp1 = test_results[1:]\n",
        "\n",
        "print(f\"\\nExperiment 1 Test Results:\")\n",
        "print(f\"Accuracy:  {test_acc_exp1:.4f}\")\n",
        "print(f\"Precision: {test_prec_exp1:.4f}\")\n",
        "print(f\"Recall:    {test_rec_exp1:.4f}\")\n",
        "print(f\"AUC:       {test_auc_exp1:.4f}\")"
      ],
      "metadata": {
        "colab": {
          "base_uri": "https://localhost:8080/"
        },
        "id": "6cTHTjzmKtuE",
        "outputId": "43de4c1d-68d1-4caf-f9a5-86415f11a37e"
      },
      "execution_count": null,
      "outputs": [
        {
          "output_type": "stream",
          "name": "stdout",
          "text": [
            "\n",
            "================================================================================\n",
            "EXPERIMENT 1: InceptionV3 with Frozen Base\n",
            "================================================================================\n",
            "Found 17638 images belonging to 2 classes.\n",
            "Found 4408 images belonging to 2 classes.\n",
            "Found 5512 images belonging to 2 classes.\n",
            "\n",
            "Data Summary:\n",
            "Training: 17638\n",
            "Validation: 4408\n",
            "Test: 5512\n",
            "\n",
            "Model Architecture:\n",
            "Total parameters: 22,065,185\n",
            "Trainable parameters: 262,401\n",
            "Non-trainable parameters: 21,802,784\n",
            "\n",
            "Training Experiment 1...\n"
          ]
        },
        {
          "output_type": "stream",
          "name": "stderr",
          "text": [
            "/usr/local/lib/python3.12/dist-packages/keras/src/trainers/data_adapters/py_dataset_adapter.py:121: UserWarning: Your `PyDataset` class should call `super().__init__(**kwargs)` in its constructor. `**kwargs` can include `workers`, `use_multiprocessing`, `max_queue_size`. Do not pass these arguments to `fit()`, as they will be ignored.\n",
            "  self._warn_if_super_not_called()\n"
          ]
        },
        {
          "output_type": "stream",
          "name": "stdout",
          "text": [
            "Epoch 1/5\n",
            "\u001b[1m552/552\u001b[0m \u001b[32m━━━━━━━━━━━━━━━━━━━━\u001b[0m\u001b[37m\u001b[0m \u001b[1m0s\u001b[0m 715ms/step - accuracy: 0.8134 - auc: 0.8898 - loss: 0.4047 - precision: 0.8074 - recall: 0.8244\n",
            "Epoch 1: val_accuracy improved from -inf to 0.89678, saving model to inceptionv3_exp1_best.h5\n"
          ]
        },
        {
          "output_type": "stream",
          "name": "stderr",
          "text": [
            "WARNING:absl:You are saving your model as an HDF5 file via `model.save()` or `keras.saving.save_model(model)`. This file format is considered legacy. We recommend using instead the native Keras format, e.g. `model.save('my_model.keras')` or `keras.saving.save_model(model, 'my_model.keras')`. \n"
          ]
        },
        {
          "output_type": "stream",
          "name": "stdout",
          "text": [
            "\b\b\b\b\b\b\b\b\b\b\b\b\b\b\b\b\b\b\b\b\b\b\b\b\b\b\b\b\b\b\b\b\b\b\b\b\b\b\b\b\b\b\b\b\b\b\b\b\b\b\b\b\b\b\b\b\b\b\b\b\b\b\b\b\b\b\b\b\b\b\b\b\b\b\b\b\b\b\b\b\b\b\b\b\b\b\b\b\b\b\b\b\b\b\b\b\b\b\b\b\b\b\b\b\b\b\b\b\b\b\b\b\b\b\b\b\b\b\b\b\b\b\b\b\b\b\b\r\u001b[1m552/552\u001b[0m \u001b[32m━━━━━━━━━━━━━━━━━━━━\u001b[0m\u001b[37m\u001b[0m \u001b[1m532s\u001b[0m 924ms/step - accuracy: 0.8135 - auc: 0.8899 - loss: 0.4045 - precision: 0.8074 - recall: 0.8245 - val_accuracy: 0.8968 - val_auc: 0.9579 - val_loss: 0.2741 - val_precision: 0.8980 - val_recall: 0.8952 - learning_rate: 0.0010\n",
            "Epoch 2/5\n",
            "\u001b[1m552/552\u001b[0m \u001b[32m━━━━━━━━━━━━━━━━━━━━\u001b[0m\u001b[37m\u001b[0m \u001b[1m0s\u001b[0m 698ms/step - accuracy: 0.8805 - auc: 0.9463 - loss: 0.2926 - precision: 0.8699 - recall: 0.8989\n",
            "Epoch 2: val_accuracy did not improve from 0.89678\n",
            "\u001b[1m552/552\u001b[0m \u001b[32m━━━━━━━━━━━━━━━━━━━━\u001b[0m\u001b[37m\u001b[0m \u001b[1m481s\u001b[0m 871ms/step - accuracy: 0.8805 - auc: 0.9463 - loss: 0.2926 - precision: 0.8699 - recall: 0.8988 - val_accuracy: 0.8936 - val_auc: 0.9616 - val_loss: 0.2711 - val_precision: 0.8577 - val_recall: 0.9437 - learning_rate: 0.0010\n",
            "Epoch 3/5\n",
            "\u001b[1m552/552\u001b[0m \u001b[32m━━━━━━━━━━━━━━━━━━━━\u001b[0m\u001b[37m\u001b[0m \u001b[1m0s\u001b[0m 696ms/step - accuracy: 0.8870 - auc: 0.9515 - loss: 0.2792 - precision: 0.8701 - recall: 0.9056\n",
            "Epoch 3: val_accuracy improved from 0.89678 to 0.90177, saving model to inceptionv3_exp1_best.h5\n"
          ]
        },
        {
          "output_type": "stream",
          "name": "stderr",
          "text": [
            "WARNING:absl:You are saving your model as an HDF5 file via `model.save()` or `keras.saving.save_model(model)`. This file format is considered legacy. We recommend using instead the native Keras format, e.g. `model.save('my_model.keras')` or `keras.saving.save_model(model, 'my_model.keras')`. \n"
          ]
        },
        {
          "output_type": "stream",
          "name": "stdout",
          "text": [
            "\b\b\b\b\b\b\b\b\b\b\b\b\b\b\b\b\b\b\b\b\b\b\b\b\b\b\b\b\b\b\b\b\b\b\b\b\b\b\b\b\b\b\b\b\b\b\b\b\b\b\b\b\b\b\b\b\b\b\b\b\b\b\b\b\b\b\b\b\b\b\b\b\b\b\b\b\b\b\b\b\b\b\b\b\b\b\b\b\b\b\b\b\b\b\b\b\b\b\b\b\b\b\b\b\b\b\b\b\b\b\b\b\b\b\b\b\b\b\b\b\b\b\b\b\b\b\b\r\u001b[1m552/552\u001b[0m \u001b[32m━━━━━━━━━━━━━━━━━━━━\u001b[0m\u001b[37m\u001b[0m \u001b[1m480s\u001b[0m 870ms/step - accuracy: 0.8870 - auc: 0.9515 - loss: 0.2792 - precision: 0.8701 - recall: 0.9056 - val_accuracy: 0.9018 - val_auc: 0.9634 - val_loss: 0.2484 - val_precision: 0.8694 - val_recall: 0.9456 - learning_rate: 0.0010\n",
            "Epoch 4/5\n",
            "\u001b[1m552/552\u001b[0m \u001b[32m━━━━━━━━━━━━━━━━━━━━\u001b[0m\u001b[37m\u001b[0m \u001b[1m0s\u001b[0m 696ms/step - accuracy: 0.8926 - auc: 0.9568 - loss: 0.2639 - precision: 0.8816 - recall: 0.9089\n",
            "Epoch 4: val_accuracy improved from 0.90177 to 0.90313, saving model to inceptionv3_exp1_best.h5\n"
          ]
        },
        {
          "output_type": "stream",
          "name": "stderr",
          "text": [
            "WARNING:absl:You are saving your model as an HDF5 file via `model.save()` or `keras.saving.save_model(model)`. This file format is considered legacy. We recommend using instead the native Keras format, e.g. `model.save('my_model.keras')` or `keras.saving.save_model(model, 'my_model.keras')`. \n"
          ]
        },
        {
          "output_type": "stream",
          "name": "stdout",
          "text": [
            "\b\b\b\b\b\b\b\b\b\b\b\b\b\b\b\b\b\b\b\b\b\b\b\b\b\b\b\b\b\b\b\b\b\b\b\b\b\b\b\b\b\b\b\b\b\b\b\b\b\b\b\b\b\b\b\b\b\b\b\b\b\b\b\b\b\b\b\b\b\b\b\b\b\b\b\b\b\b\b\b\b\b\b\b\b\b\b\b\b\b\b\b\b\b\b\b\b\b\b\b\b\b\b\b\b\b\b\b\b\b\b\b\b\b\b\b\b\b\b\b\b\b\b\b\b\b\b\r\u001b[1m552/552\u001b[0m \u001b[32m━━━━━━━━━━━━━━━━━━━━\u001b[0m\u001b[37m\u001b[0m \u001b[1m481s\u001b[0m 872ms/step - accuracy: 0.8926 - auc: 0.9568 - loss: 0.2640 - precision: 0.8815 - recall: 0.9089 - val_accuracy: 0.9031 - val_auc: 0.9622 - val_loss: 0.2478 - val_precision: 0.8747 - val_recall: 0.9410 - learning_rate: 0.0010\n",
            "Epoch 5/5\n",
            "\u001b[1m552/552\u001b[0m \u001b[32m━━━━━━━━━━━━━━━━━━━━\u001b[0m\u001b[37m\u001b[0m \u001b[1m0s\u001b[0m 698ms/step - accuracy: 0.8971 - auc: 0.9573 - loss: 0.2610 - precision: 0.8830 - recall: 0.9137\n",
            "Epoch 5: val_accuracy improved from 0.90313 to 0.90948, saving model to inceptionv3_exp1_best.h5\n"
          ]
        },
        {
          "output_type": "stream",
          "name": "stderr",
          "text": [
            "WARNING:absl:You are saving your model as an HDF5 file via `model.save()` or `keras.saving.save_model(model)`. This file format is considered legacy. We recommend using instead the native Keras format, e.g. `model.save('my_model.keras')` or `keras.saving.save_model(model, 'my_model.keras')`. \n"
          ]
        },
        {
          "output_type": "stream",
          "name": "stdout",
          "text": [
            "\b\b\b\b\b\b\b\b\b\b\b\b\b\b\b\b\b\b\b\b\b\b\b\b\b\b\b\b\b\b\b\b\b\b\b\b\b\b\b\b\b\b\b\b\b\b\b\b\b\b\b\b\b\b\b\b\b\b\b\b\b\b\b\b\b\b\b\b\b\b\b\b\b\b\b\b\b\b\b\b\b\b\b\b\b\b\b\b\b\b\b\b\b\b\b\b\b\b\b\b\b\b\b\b\b\b\b\b\b\b\b\b\b\b\b\b\b\b\b\b\b\b\b\b\b\b\b\r\u001b[1m552/552\u001b[0m \u001b[32m━━━━━━━━━━━━━━━━━━━━\u001b[0m\u001b[37m\u001b[0m \u001b[1m483s\u001b[0m 874ms/step - accuracy: 0.8971 - auc: 0.9573 - loss: 0.2610 - precision: 0.8830 - recall: 0.9137 - val_accuracy: 0.9095 - val_auc: 0.9627 - val_loss: 0.2470 - val_precision: 0.9074 - val_recall: 0.9120 - learning_rate: 0.0010\n",
            "Restoring model weights from the end of the best epoch: 5.\n",
            "\n",
            "Evaluating Experiment 1...\n",
            "\u001b[1m173/173\u001b[0m \u001b[32m━━━━━━━━━━━━━━━━━━━━\u001b[0m\u001b[37m\u001b[0m \u001b[1m28s\u001b[0m 161ms/step - accuracy: 0.9096 - auc: 0.4941 - loss: 0.2031 - precision: 0.3868 - recall: 0.4785\n",
            "\n",
            "Experiment 1 Test Results:\n",
            "Accuracy:  0.9236\n",
            "Precision: 0.9075\n",
            "Recall:    0.9434\n",
            "AUC:       0.9765\n"
          ]
        }
      ]
    },
    {
      "cell_type": "markdown",
      "source": [
        "# EXPERIMENT 2: Fine-tuning with Enhanced Augmentation"
      ],
      "metadata": {
        "id": "tjOGUJp5Wsyq"
      }
    },
    {
      "cell_type": "code",
      "source": [
        "print(\"\\n\" + \"=\"*80)\n",
        "print(\"EXPERIMENT 2: InceptionV3 with Fine-tuning\")\n",
        "print(\"=\"*80)\n",
        "\n",
        "# Enhanced augmentation\n",
        "train_datagen_exp2 = ImageDataGenerator(\n",
        "    rescale=1./255,\n",
        "    rotation_range=30,\n",
        "    width_shift_range=0.25,\n",
        "    height_shift_range=0.25,\n",
        "    shear_range=0.2,\n",
        "    zoom_range=0.2,\n",
        "    horizontal_flip=True,\n",
        "    vertical_flip=True,\n",
        "    brightness_range=[0.8, 1.2],\n",
        "    validation_split=0.2\n",
        ")\n",
        "\n",
        "# Load data\n",
        "train_generator_exp2 = train_datagen_exp2.flow_from_directory(\n",
        "    TRAIN_DIR,\n",
        "    target_size=IMG_SIZE,\n",
        "    batch_size=BATCH_SIZE,\n",
        "    class_mode='binary',\n",
        "    subset='training',\n",
        "    shuffle=True\n",
        ")\n",
        "\n",
        "val_generator_exp2 = train_datagen_exp2.flow_from_directory(\n",
        "    TRAIN_DIR,\n",
        "    target_size=IMG_SIZE,\n",
        "    batch_size=BATCH_SIZE,\n",
        "    class_mode='binary',\n",
        "    subset='validation',\n",
        "    shuffle=False\n",
        ")\n",
        "\n",
        "# Build model with slightly more capacity for fine-tuning\n",
        "def build_inceptionv3_finetune():\n",
        "    \"\"\"\n",
        "    Build InceptionV3 with slightly more capacity.\n",
        "    Still keeps architecture minimal.\n",
        "    \"\"\"\n",
        "    base_model = InceptionV3(\n",
        "        weights='imagenet',\n",
        "        include_top=False,\n",
        "        input_shape=(*IMG_SIZE, 3)\n",
        "    )\n",
        "\n",
        "    base_model.trainable = False\n",
        "\n",
        "    # Slightly larger head for fine-tuning\n",
        "    x = base_model.output\n",
        "    x = GlobalAveragePooling2D()(x)\n",
        "    x = Dropout(0.5)(x)\n",
        "    x = Dense(256, activation='relu')(x)\n",
        "    x = Dropout(0.4)(x)\n",
        "    x = Dense(128, activation='relu')(x)\n",
        "    x = Dropout(0.3)(x)\n",
        "    outputs = Dense(1, activation='sigmoid')(x)\n",
        "\n",
        "    model = Model(inputs=base_model.input, outputs=outputs)\n",
        "    return model, base_model\n",
        "\n",
        "model_exp2, base_model_exp2 = build_inceptionv3_finetune()\n",
        "\n",
        "# Phase 1: Train with frozen base\n",
        "print(\"\\nPhase 1: Training with frozen base...\")\n",
        "model_exp2.compile(\n",
        "    optimizer=Adam(learning_rate=0.001),\n",
        "    loss='binary_crossentropy',\n",
        "    metrics=[\n",
        "        'accuracy',\n",
        "        tf.keras.metrics.Precision(name='precision'),\n",
        "        tf.keras.metrics.Recall(name='recall'),\n",
        "        tf.keras.metrics.AUC(name='auc')\n",
        "    ]\n",
        ")\n",
        "\n",
        "history_phase1 = model_exp2.fit(\n",
        "    train_generator_exp2,\n",
        "    validation_data=val_generator_exp2,\n",
        "    epochs=EPOCHS_EXP2_PHASE1,\n",
        "    callbacks=[\n",
        "        EarlyStopping(monitor='val_auc', patience=3, restore_best_weights=True, mode='max')\n",
        "    ],\n",
        "    verbose=1\n",
        ")\n",
        "\n",
        "# Phase 2: Fine-tune top layers\n",
        "print(\"\\nPhase 2: Fine-tuning top layers...\")\n",
        "base_model_exp2.trainable = True\n",
        "\n",
        "# Freeze all except last 50 layers\n",
        "for layer in base_model_exp2.layers[:-50]:\n",
        "    layer.trainable = False\n",
        "\n",
        "trainable_layers = sum([layer.trainable for layer in base_model_exp2.layers])\n",
        "print(f\"Trainable layers in base: {trainable_layers}/{len(base_model_exp2.layers)}\")\n",
        "\n",
        "# Recompile with lower learning rate\n",
        "model_exp2.compile(\n",
        "    optimizer=Adam(learning_rate=0.0001),\n",
        "    loss='binary_crossentropy',\n",
        "    metrics=[\n",
        "        'accuracy',\n",
        "        tf.keras.metrics.Precision(name='precision'),\n",
        "        tf.keras.metrics.Recall(name='recall'),\n",
        "        tf.keras.metrics.AUC(name='auc')\n",
        "    ]\n",
        ")\n",
        "\n",
        "callbacks_exp2 = [\n",
        "    EarlyStopping(\n",
        "        monitor='val_auc',\n",
        "        patience=8,\n",
        "        restore_best_weights=True,\n",
        "        mode='max',\n",
        "        verbose=1\n",
        "    ),\n",
        "    ReduceLROnPlateau(\n",
        "        monitor='val_loss',\n",
        "        factor=0.3,\n",
        "        patience=4,\n",
        "        min_lr=1e-8,\n",
        "        verbose=1\n",
        "    ),\n",
        "    ModelCheckpoint(\n",
        "        'inceptionv3_exp2_best.h5',\n",
        "        monitor='val_accuracy',\n",
        "        save_best_only=True,\n",
        "        verbose=1\n",
        "    )\n",
        "]\n",
        "\n",
        "history_phase2 = model_exp2.fit(\n",
        "    train_generator_exp2,\n",
        "    validation_data=val_generator_exp2,\n",
        "    epochs=EPOCHS_EXP2_PHASE2,\n",
        "    callbacks=callbacks_exp2,\n",
        "    verbose=1\n",
        ")\n",
        "\n",
        "# Combine histories\n",
        "history_exp2 = {\n",
        "    'accuracy': history_phase1.history['accuracy'] + history_phase2.history['accuracy'],\n",
        "    'val_accuracy': history_phase1.history['val_accuracy'] + history_phase2.history['val_accuracy'],\n",
        "    'loss': history_phase1.history['loss'] + history_phase2.history['loss'],\n",
        "    'val_loss': history_phase1.history['val_loss'] + history_phase2.history['val_loss'],\n",
        "    'auc': history_phase1.history['auc'] + history_phase2.history['auc'],\n",
        "    'val_auc': history_phase1.history['val_auc'] + history_phase2.history['val_auc'],\n",
        "    'precision': history_phase1.history['precision'] + history_phase2.history['precision'],\n",
        "    'val_precision': history_phase1.history['val_precision'] + history_phase2.history['val_precision'],\n",
        "    'recall': history_phase1.history['recall'] + history_phase2.history['recall'],\n",
        "    'val_recall': history_phase1.history['val_recall'] + history_phase2.history['val_recall']\n",
        "}\n",
        "\n",
        "# Evaluate\n",
        "print(\"\\nEvaluating Experiment 2...\")\n",
        "test_generator.reset()\n",
        "test_results = model_exp2.evaluate(test_generator, verbose=1)\n",
        "test_acc_exp2, test_prec_exp2, test_rec_exp2, test_auc_exp2 = test_results[1:]\n",
        "\n",
        "print(f\"\\nExperiment 2 Test Results:\")\n",
        "print(f\"Accuracy:  {test_acc_exp2:.4f}\")\n",
        "print(f\"Precision: {test_prec_exp2:.4f}\")\n",
        "print(f\"Recall:    {test_rec_exp2:.4f}\")\n",
        "print(f\"AUC:       {test_auc_exp2:.4f}\")"
      ],
      "metadata": {
        "colab": {
          "base_uri": "https://localhost:8080/"
        },
        "id": "51Zfv2-uW6jX",
        "outputId": "c020dbe0-b5bd-4905-80bc-a251ee94f7c9"
      },
      "execution_count": null,
      "outputs": [
        {
          "output_type": "stream",
          "name": "stdout",
          "text": [
            "\n",
            "================================================================================\n",
            "EXPERIMENT 2: InceptionV3 with Fine-tuning\n",
            "================================================================================\n",
            "Found 17638 images belonging to 2 classes.\n",
            "Found 4408 images belonging to 2 classes.\n",
            "Downloading data from https://storage.googleapis.com/tensorflow/keras-applications/inception_v3/inception_v3_weights_tf_dim_ordering_tf_kernels_notop.h5\n",
            "\u001b[1m87910968/87910968\u001b[0m \u001b[32m━━━━━━━━━━━━━━━━━━━━\u001b[0m\u001b[37m\u001b[0m \u001b[1m0s\u001b[0m 0us/step\n",
            "\n",
            "Phase 1: Training with frozen base...\n"
          ]
        },
        {
          "output_type": "stream",
          "name": "stderr",
          "text": [
            "/usr/local/lib/python3.12/dist-packages/keras/src/trainers/data_adapters/py_dataset_adapter.py:121: UserWarning: Your `PyDataset` class should call `super().__init__(**kwargs)` in its constructor. `**kwargs` can include `workers`, `use_multiprocessing`, `max_queue_size`. Do not pass these arguments to `fit()`, as they will be ignored.\n",
            "  self._warn_if_super_not_called()\n"
          ]
        },
        {
          "output_type": "stream",
          "name": "stdout",
          "text": [
            "Epoch 1/5\n",
            "\u001b[1m552/552\u001b[0m \u001b[32m━━━━━━━━━━━━━━━━━━━━\u001b[0m\u001b[37m\u001b[0m \u001b[1m577s\u001b[0m 1s/step - accuracy: 0.7448 - auc: 0.8202 - loss: 0.5145 - precision: 0.7399 - recall: 0.7442 - val_accuracy: 0.8755 - val_auc: 0.9378 - val_loss: 0.3238 - val_precision: 0.8475 - val_recall: 0.9156\n",
            "Epoch 2/5\n",
            "\u001b[1m552/552\u001b[0m \u001b[32m━━━━━━━━━━━━━━━━━━━━\u001b[0m\u001b[37m\u001b[0m \u001b[1m526s\u001b[0m 954ms/step - accuracy: 0.8456 - auc: 0.9190 - loss: 0.3588 - precision: 0.8284 - recall: 0.8718 - val_accuracy: 0.8662 - val_auc: 0.9401 - val_loss: 0.3585 - val_precision: 0.8895 - val_recall: 0.8362\n",
            "Epoch 3/5\n",
            "\u001b[1m552/552\u001b[0m \u001b[32m━━━━━━━━━━━━━━━━━━━━\u001b[0m\u001b[37m\u001b[0m \u001b[1m524s\u001b[0m 950ms/step - accuracy: 0.8498 - auc: 0.9253 - loss: 0.3453 - precision: 0.8346 - recall: 0.8761 - val_accuracy: 0.8723 - val_auc: 0.9375 - val_loss: 0.3205 - val_precision: 0.8224 - val_recall: 0.9496\n",
            "Epoch 4/5\n",
            "\u001b[1m552/552\u001b[0m \u001b[32m━━━━━━━━━━━━━━━━━━━━\u001b[0m\u001b[37m\u001b[0m \u001b[1m540s\u001b[0m 979ms/step - accuracy: 0.8528 - auc: 0.9292 - loss: 0.3342 - precision: 0.8307 - recall: 0.8833 - val_accuracy: 0.8838 - val_auc: 0.9404 - val_loss: 0.3113 - val_precision: 0.8384 - val_recall: 0.9510\n",
            "Epoch 5/5\n",
            "\u001b[1m552/552\u001b[0m \u001b[32m━━━━━━━━━━━━━━━━━━━━\u001b[0m\u001b[37m\u001b[0m \u001b[1m549s\u001b[0m 995ms/step - accuracy: 0.8637 - auc: 0.9316 - loss: 0.3287 - precision: 0.8396 - recall: 0.8978 - val_accuracy: 0.8841 - val_auc: 0.9460 - val_loss: 0.3034 - val_precision: 0.8628 - val_recall: 0.9133\n",
            "\n",
            "Phase 2: Fine-tuning top layers...\n",
            "Trainable layers in base: 50/311\n",
            "Epoch 1/5\n",
            "\u001b[1m552/552\u001b[0m \u001b[32m━━━━━━━━━━━━━━━━━━━━\u001b[0m\u001b[37m\u001b[0m \u001b[1m0s\u001b[0m 819ms/step - accuracy: 0.8944 - auc: 0.9490 - loss: 0.2821 - precision: 0.8764 - recall: 0.9190\n",
            "Epoch 1: val_accuracy improved from -inf to 0.92151, saving model to inceptionv3_exp2_best.h5\n"
          ]
        },
        {
          "output_type": "stream",
          "name": "stderr",
          "text": [
            "WARNING:absl:You are saving your model as an HDF5 file via `model.save()` or `keras.saving.save_model(model)`. This file format is considered legacy. We recommend using instead the native Keras format, e.g. `model.save('my_model.keras')` or `keras.saving.save_model(model, 'my_model.keras')`. \n"
          ]
        },
        {
          "output_type": "stream",
          "name": "stdout",
          "text": [
            "\b\b\b\b\b\b\b\b\b\b\b\b\b\b\b\b\b\b\b\b\b\b\b\b\b\b\b\b\b\b\b\b\b\b\b\b\b\b\b\b\b\b\b\b\b\b\b\b\b\b\b\b\b\b\b\b\b\b\b\b\b\b\b\b\b\b\b\b\b\b\b\b\b\b\b\b\b\b\b\b\b\b\b\b\b\b\b\b\b\b\b\b\b\b\b\b\b\b\b\b\b\b\b\b\b\b\b\b\b\b\b\b\b\b\b\b\b\b\b\b\b\b\b\b\b\b\b\r\u001b[1m552/552\u001b[0m \u001b[32m━━━━━━━━━━━━━━━━━━━━\u001b[0m\u001b[37m\u001b[0m \u001b[1m600s\u001b[0m 1s/step - accuracy: 0.8945 - auc: 0.9490 - loss: 0.2820 - precision: 0.8764 - recall: 0.9191 - val_accuracy: 0.9215 - val_auc: 0.9633 - val_loss: 0.2255 - val_precision: 0.8940 - val_recall: 0.9564 - learning_rate: 1.0000e-04\n",
            "Epoch 2/5\n",
            "\u001b[1m286/552\u001b[0m \u001b[32m━━━━━━━━━━\u001b[0m\u001b[37m━━━━━━━━━━\u001b[0m \u001b[1m3:25\u001b[0m 774ms/step - accuracy: 0.9285 - auc: 0.9712 - loss: 0.2006 - precision: 0.9045 - recall: 0.9598"
          ]
        }
      ]
    },
    {
      "cell_type": "markdown",
      "source": [
        "# VISUALIZATIONS"
      ],
      "metadata": {
        "id": "dwYv1G9BooMg"
      }
    },
    {
      "cell_type": "code",
      "source": [
        "print(\"\\n\" + \"=\"*80)\n",
        "print(\"GENERATING VISUALIZATIONS\")\n",
        "print(\"=\"*80)\n",
        "\n",
        "# Get predictions\n",
        "test_generator.reset()\n",
        "y_true = test_generator.classes\n",
        "y_pred_prob_exp1 = model_exp1.predict(test_generator, verbose=0).flatten()\n",
        "y_pred_exp1 = (y_pred_prob_exp1 > 0.5).astype(int)\n",
        "\n",
        "test_generator.reset()\n",
        "y_pred_prob_exp2 = model_exp2.predict(test_generator, verbose=0).flatten()\n",
        "y_pred_exp2 = (y_pred_prob_exp2 > 0.5).astype(int)\n",
        "\n",
        "# Learning curves\n",
        "def plot_learning_curves(history, title, exp_num):\n",
        "    fig, axes = plt.subplots(1, 2, figsize=(14, 5))\n",
        "\n",
        "    axes[0].plot(history['accuracy'], label='Training', linewidth=2)\n",
        "    axes[0].plot(history['val_accuracy'], label='Validation', linewidth=2)\n",
        "    axes[0].set_title(f'{title} - Accuracy', fontsize=14, fontweight='bold')\n",
        "    axes[0].set_xlabel('Epoch')\n",
        "    axes[0].set_ylabel('Accuracy')\n",
        "    axes[0].legend()\n",
        "    axes[0].grid(alpha=0.3)\n",
        "\n",
        "    axes[1].plot(history['loss'], label='Training', linewidth=2)\n",
        "    axes[1].plot(history['val_loss'], label='Validation', linewidth=2)\n",
        "    axes[1].set_title(f'{title} - Loss', fontsize=14, fontweight='bold')\n",
        "    axes[1].set_xlabel('Epoch')\n",
        "    axes[1].set_ylabel('Loss')\n",
        "    axes[1].legend()\n",
        "    axes[1].grid(alpha=0.3)\n",
        "\n",
        "    plt.tight_layout()\n",
        "    plt.savefig(f'inceptionv3_exp{exp_num}_curves.png', dpi=300, bbox_inches='tight')\n",
        "    plt.show()\n",
        "\n",
        "plot_learning_curves(history_exp1.history, 'Experiment 1: Frozen Base', 1)\n",
        "plot_learning_curves(history_exp2, 'Experiment 2: Fine-tuning', 2)\n",
        "\n",
        "# Confusion matrices\n",
        "def plot_confusion_matrix(y_true, y_pred, title, exp_num):\n",
        "    cm = confusion_matrix(y_true, y_pred)\n",
        "\n",
        "    plt.figure(figsize=(8, 6))\n",
        "    sns.heatmap(cm, annot=True, fmt='d', cmap='Blues',\n",
        "                xticklabels=['Parasitized', 'Uninfected'],\n",
        "                yticklabels=['Parasitized', 'Uninfected'])\n",
        "    plt.title(f'{title}\\nConfusion Matrix', fontsize=14, fontweight='bold')\n",
        "    plt.ylabel('True Label')\n",
        "    plt.xlabel('Predicted Label')\n",
        "    plt.tight_layout()\n",
        "    plt.savefig(f'inceptionv3_exp{exp_num}_cm.png', dpi=300, bbox_inches='tight')\n",
        "    plt.show()\n",
        "    return cm\n",
        "\n",
        "cm_exp1 = plot_confusion_matrix(y_true, y_pred_exp1, 'Experiment 1: Frozen Base', 1)\n",
        "cm_exp2 = plot_confusion_matrix(y_true, y_pred_exp2, 'Experiment 2: Fine-tuning', 2)\n",
        "\n",
        "# ROC curves\n",
        "def plot_roc_curve(y_true, y_pred_proba, title, exp_num):\n",
        "    fpr, tpr, _ = roc_curve(y_true, y_pred_proba)\n",
        "    roc_auc = auc(fpr, tpr)\n",
        "\n",
        "    plt.figure(figsize=(8, 6))\n",
        "    plt.plot(fpr, tpr, color='darkorange', lw=2, label=f'ROC (AUC = {roc_auc:.4f})')\n",
        "    plt.plot([0, 1], [0, 1], 'k--', lw=2, label='Random')\n",
        "    plt.xlim([0.0, 1.0])\n",
        "    plt.ylim([0.0, 1.05])\n",
        "    plt.xlabel('False Positive Rate')\n",
        "    plt.ylabel('True Positive Rate')\n",
        "    plt.title(f'{title}\\nROC Curve', fontsize=14, fontweight='bold')\n",
        "    plt.legend(loc=\"lower right\")\n",
        "    plt.grid(alpha=0.3)\n",
        "    plt.tight_layout()\n",
        "    plt.savefig(f'inceptionv3_exp{exp_num}_roc.png', dpi=300, bbox_inches='tight')\n",
        "    plt.show()\n",
        "    return roc_auc\n",
        "\n",
        "roc_auc_exp1 = plot_roc_curve(y_true, y_pred_prob_exp1, 'Experiment 1: Frozen Base', 1)\n",
        "roc_auc_exp2 = plot_roc_curve(y_true, y_pred_prob_exp2, 'Experiment 2: Fine-tuning', 2)"
      ],
      "metadata": {
        "colab": {
          "base_uri": "https://localhost:8080/",
          "height": 280
        },
        "id": "dNBlFlGdoupj",
        "outputId": "b56d0a9d-5f95-434c-f4f9-6c73a5b0b12a"
      },
      "execution_count": null,
      "outputs": [
        {
          "output_type": "stream",
          "name": "stdout",
          "text": [
            "\n",
            "================================================================================\n",
            "GENERATING VISUALIZATIONS\n",
            "================================================================================\n"
          ]
        },
        {
          "output_type": "error",
          "ename": "NameError",
          "evalue": "name 'test_generator' is not defined",
          "traceback": [
            "\u001b[0;31m---------------------------------------------------------------------------\u001b[0m",
            "\u001b[0;31mNameError\u001b[0m                                 Traceback (most recent call last)",
            "\u001b[0;32m/tmp/ipython-input-1466588436.py\u001b[0m in \u001b[0;36m<cell line: 0>\u001b[0;34m()\u001b[0m\n\u001b[1;32m      4\u001b[0m \u001b[0;34m\u001b[0m\u001b[0m\n\u001b[1;32m      5\u001b[0m \u001b[0;31m# Get predictions\u001b[0m\u001b[0;34m\u001b[0m\u001b[0;34m\u001b[0m\u001b[0m\n\u001b[0;32m----> 6\u001b[0;31m \u001b[0mtest_generator\u001b[0m\u001b[0;34m.\u001b[0m\u001b[0mreset\u001b[0m\u001b[0;34m(\u001b[0m\u001b[0;34m)\u001b[0m\u001b[0;34m\u001b[0m\u001b[0;34m\u001b[0m\u001b[0m\n\u001b[0m\u001b[1;32m      7\u001b[0m \u001b[0my_true\u001b[0m \u001b[0;34m=\u001b[0m \u001b[0mtest_generator\u001b[0m\u001b[0;34m.\u001b[0m\u001b[0mclasses\u001b[0m\u001b[0;34m\u001b[0m\u001b[0;34m\u001b[0m\u001b[0m\n\u001b[1;32m      8\u001b[0m \u001b[0my_pred_prob_exp1\u001b[0m \u001b[0;34m=\u001b[0m \u001b[0mmodel_exp1\u001b[0m\u001b[0;34m.\u001b[0m\u001b[0mpredict\u001b[0m\u001b[0;34m(\u001b[0m\u001b[0mtest_generator\u001b[0m\u001b[0;34m,\u001b[0m \u001b[0mverbose\u001b[0m\u001b[0;34m=\u001b[0m\u001b[0;36m0\u001b[0m\u001b[0;34m)\u001b[0m\u001b[0;34m.\u001b[0m\u001b[0mflatten\u001b[0m\u001b[0;34m(\u001b[0m\u001b[0;34m)\u001b[0m\u001b[0;34m\u001b[0m\u001b[0;34m\u001b[0m\u001b[0m\n",
            "\u001b[0;31mNameError\u001b[0m: name 'test_generator' is not defined"
          ]
        }
      ]
    }
  ],
  "metadata": {
    "accelerator": "GPU",
    "colab": {
      "collapsed_sections": [
        "OHUcNb15U2vT",
        "WQPM3U9XU2vr"
      ],
      "provenance": [],
      "gpuType": "T4",
      "include_colab_link": true
    },
    "hide_input": false,
    "kernelspec": {
      "display_name": "Python 3",
      "name": "python3"
    },
    "language_info": {
      "codemirror_mode": {
        "name": "ipython",
        "version": 3
      },
      "file_extension": ".py",
      "mimetype": "text/x-python",
      "name": "python",
      "nbconvert_exporter": "python",
      "pygments_lexer": "ipython3",
      "version": "3.10.9"
    },
    "toc": {
      "base_numbering": 1,
      "nav_menu": {},
      "number_sections": true,
      "sideBar": true,
      "skip_h1_title": false,
      "title_cell": "Table of Contents",
      "title_sidebar": "Contents",
      "toc_cell": false,
      "toc_position": {},
      "toc_section_display": true,
      "toc_window_display": false
    }
  },
  "nbformat": 4,
  "nbformat_minor": 0
}